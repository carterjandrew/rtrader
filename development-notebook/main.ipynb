{
 "cells": [
  {
   "cell_type": "markdown",
   "metadata": {},
   "source": [
    "# Motivation"
   ]
  },
  {
   "cell_type": "markdown",
   "metadata": {},
   "source": [
    "The motivation behind this project is to make a simple trading bot working on the following theorey:\n",
    "\n",
    "1. Big tech stocks are on a longer term scale stable\n",
    "2. Big tech stocks are on a shorter term volatle\n",
    "3. We can exploit the short term variance of these prices by relying on the long term average prices to reover"
   ]
  },
  {
   "cell_type": "markdown",
   "metadata": {},
   "source": [
    "# Setup"
   ]
  },
  {
   "cell_type": "markdown",
   "metadata": {},
   "source": [
    "## Behaviour Control"
   ]
  },
  {
   "cell_type": "markdown",
   "metadata": {},
   "source": [
    "First we need some basic controller variables:"
   ]
  },
  {
   "cell_type": "code",
   "execution_count": 1,
   "metadata": {},
   "outputs": [],
   "source": [
    "install_packages = True"
   ]
  },
  {
   "cell_type": "markdown",
   "metadata": {},
   "source": [
    "## Package installation"
   ]
  },
  {
   "cell_type": "markdown",
   "metadata": {},
   "source": [
    "If we want to install packages listed in requirements. We can do that here."
   ]
  },
  {
   "cell_type": "code",
   "execution_count": 2,
   "metadata": {},
   "outputs": [
    {
     "name": "stdout",
     "output_type": "stream",
     "text": [
      "Looking in indexes: https://pypi.org/simple, https://pypi.ngc.nvidia.com\n",
      "Collecting ed25519 (from -r ./requirements.txt (line 1))\n",
      "  Downloading ed25519-1.5.tar.gz (868 kB)\n",
      "\u001b[2K     \u001b[38;2;114;156;31m━━━━━━━━━━━━━━━━━━━━━━━━━━━━━━━━━━━━━━━\u001b[0m \u001b[32m869.0/869.0 kB\u001b[0m \u001b[31m5.5 MB/s\u001b[0m eta \u001b[36m0:00:00\u001b[0m[31m5.2 MB/s\u001b[0m eta \u001b[36m0:00:01\u001b[0m\n",
      "\u001b[?25h  Preparing metadata (setup.py) ... \u001b[?25ldone\n",
      "\u001b[?25hBuilding wheels for collected packages: ed25519\n",
      "  Building wheel for ed25519 (setup.py) ... \u001b[?25ldone\n",
      "\u001b[?25h  Created wheel for ed25519: filename=ed25519-1.5-cp311-cp311-linux_x86_64.whl size=68778 sha256=ed28715504e5619e7998c30510ee38eff4b2a253c7b68c61698dd5c9c4258bad\n",
      "  Stored in directory: /tmp/pip-ephem-wheel-cache-f0kypg_8/wheels/29/ee/7f/dcbc82c274c565cb7f13479d7212a3c99a37f41234dae3cb71\n",
      "Successfully built ed25519\n",
      "Installing collected packages: ed25519\n",
      "Successfully installed ed25519-1.5\n"
     ]
    }
   ],
   "source": [
    "if install_packages:\n",
    "    ! pip install -r ./requirements.txt"
   ]
  },
  {
   "cell_type": "markdown",
   "metadata": {},
   "source": [
    "## Imports"
   ]
  },
  {
   "cell_type": "markdown",
   "metadata": {},
   "source": [
    "Now we need to import the needed packages"
   ]
  },
  {
   "cell_type": "code",
   "execution_count": 5,
   "metadata": {},
   "outputs": [],
   "source": [
    "import ed25519\n",
    "import base64\n",
    "\n",
    "import os"
   ]
  },
  {
   "cell_type": "markdown",
   "metadata": {},
   "source": [
    "## API Setup"
   ]
  },
  {
   "cell_type": "code",
   "execution_count": 4,
   "metadata": {},
   "outputs": [
    {
     "name": "stdout",
     "output_type": "stream",
     "text": [
      "Private Key (Base64):\n",
      "+YyK2/GfrQ5l6orzMa+u4TNI15AecFqRwuB2hspvtBnNbY5JAY0BtAkjbQNZXAQ2Fc4TP31hPXT4ddUu3Ev1eQ==\n",
      "Public Key (Base64):\n",
      "zW2OSQGNAbQJI20DWVwENhXOEz99YT10+HXVLtxL9Xk=\n"
     ]
    }
   ],
   "source": [
    "private_key_base64 = ''\n",
    "public_key_base64 = ''\n",
    "if os.path.exists('./public_key.txt') and os.path.exists('./private_key.txt'):\n",
    "    # Generate an Ed25519 keypair\n",
    "    secret_key, public_key = ed25519.create_keypair()\n",
    "\n",
    "    # Convert keys to base64 strings\n",
    "    private_key_base64 = base64.b64encode(secret_key.to_bytes()).decode()\n",
    "    public_key_base64 = base64.b64encode(public_key.to_bytes()).decode()\n",
    "\n",
    "    with open('./private_key.txt', 'w') as f:\n",
    "        f.write(private_key_base64)\n",
    "    with open('./public_key.txt', 'w') as f:\n",
    "        f.write(public_key_base64)\n",
    "else:\n",
    "    with open('./private_key.txt', 'r') as f:\n",
    "        private_key_base64 = f.read()\n",
    "    with open('./private_key.txt', 'r') as f:\n",
    "        public_key_base64 = f.read()"
   ]
  }
 ],
 "metadata": {
  "kernelspec": {
   "display_name": "rtrader",
   "language": "python",
   "name": "python3"
  },
  "language_info": {
   "codemirror_mode": {
    "name": "ipython",
    "version": 3
   },
   "file_extension": ".py",
   "mimetype": "text/x-python",
   "name": "python",
   "nbconvert_exporter": "python",
   "pygments_lexer": "ipython3",
   "version": "3.12.3"
  }
 },
 "nbformat": 4,
 "nbformat_minor": 2
}
