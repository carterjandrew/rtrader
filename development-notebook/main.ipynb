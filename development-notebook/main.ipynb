{
 "cells": [
  {
   "cell_type": "markdown",
   "metadata": {},
   "source": [
    "# Motivation"
   ]
  },
  {
   "cell_type": "markdown",
   "metadata": {},
   "source": [
    "The motivation behind this project is to make a simple trading bot working on the following theorey:\n",
    "\n",
    "1. Big tech stocks are on a longer term scale stable\n",
    "2. Big tech stocks are on a shorter term volatle\n",
    "3. We can exploit the short term variance of these prices by relying on the long term average prices to reover"
   ]
  },
  {
   "cell_type": "markdown",
   "metadata": {},
   "source": [
    "# Setup"
   ]
  },
  {
   "cell_type": "markdown",
   "metadata": {},
   "source": [
    "## Behaviour Control"
   ]
  },
  {
   "cell_type": "markdown",
   "metadata": {},
   "source": [
    "First we need some basic controller variables:"
   ]
  },
  {
   "cell_type": "code",
   "execution_count": 1,
   "metadata": {},
   "outputs": [],
   "source": [
    "install_packages = True"
   ]
  },
  {
   "cell_type": "markdown",
   "metadata": {},
   "source": [
    "## Package installation"
   ]
  },
  {
   "cell_type": "markdown",
   "metadata": {},
   "source": [
    "If we want to install packages listed in requirements. We can do that here."
   ]
  },
  {
   "cell_type": "code",
   "execution_count": 2,
   "metadata": {},
   "outputs": [
    {
     "name": "stdout",
     "output_type": "stream",
     "text": [
      "Looking in indexes: https://pypi.org/simple, https://pypi.ngc.nvidia.com\n",
      "Requirement already satisfied: ed25519 in /home/carter/.conda/envs/rtrader/lib/python3.11/site-packages (from -r ./requirements.txt (line 1)) (1.5)\n"
     ]
    }
   ],
   "source": [
    "if install_packages:\n",
    "    ! pip install -r ./requirements.txt"
   ]
  },
  {
   "cell_type": "markdown",
   "metadata": {},
   "source": [
    "## Imports"
   ]
  },
  {
   "cell_type": "markdown",
   "metadata": {},
   "source": [
    "Now we need to import the needed packages"
   ]
  },
  {
   "cell_type": "code",
   "execution_count": 3,
   "metadata": {},
   "outputs": [],
   "source": [
    "import ed25519\n",
    "import base64\n",
    "\n",
    "import os"
   ]
  },
  {
   "cell_type": "markdown",
   "metadata": {},
   "source": [
    "## API Setup"
   ]
  },
  {
   "cell_type": "code",
   "execution_count": 7,
   "metadata": {},
   "outputs": [
    {
     "name": "stdout",
     "output_type": "stream",
     "text": [
      "Private key: 7TO0QUBN+gz8VYefqZFkgO4Lc1tdfRsctTg0a87ImUz0lC1PlZRpnVpYH2DXObTSLvxaxFWE+L7qtmfHf4J3yg==\n",
      "Public key: 9JQtT5WUaZ1aWB9g1zm00i78WsRVhPi+6rZnx3+Cd8o=\n"
     ]
    }
   ],
   "source": [
    "private_key_base64 = ''\n",
    "public_key_base64 = ''\n",
    "if not os.path.exists('./public_key.txt') and not os.path.exists('./private_key.txt'):\n",
    "    # Generate an Ed25519 keypair\n",
    "    secret_key, public_key = ed25519.create_keypair()\n",
    "\n",
    "    # Convert keys to base64 strings\n",
    "    private_key_base64 = base64.b64encode(secret_key.to_bytes()).decode()\n",
    "    public_key_base64 = base64.b64encode(public_key.to_bytes()).decode()\n",
    "\n",
    "    with open('./private_key.txt', 'w') as f:\n",
    "        f.write(private_key_base64)\n",
    "    with open('./public_key.txt', 'w') as f:\n",
    "        f.write(public_key_base64)\n",
    "else:\n",
    "    with open('./private_key.txt', 'r') as f:\n",
    "        private_key_base64 = f.read()\n",
    "    with open('./public_key.txt', 'r') as f:\n",
    "        public_key_base64 = f.read()\n",
    "\n",
    "print(f'Private key: {private_key_base64}')\n",
    "print(f'Public key: {public_key_base64}')"
   ]
  }
 ],
 "metadata": {
  "kernelspec": {
   "display_name": "rtrader",
   "language": "python",
   "name": "python3"
  },
  "language_info": {
   "codemirror_mode": {
    "name": "ipython",
    "version": 3
   },
   "file_extension": ".py",
   "mimetype": "text/x-python",
   "name": "python",
   "nbconvert_exporter": "python",
   "pygments_lexer": "ipython3",
   "version": "3.11.9"
  }
 },
 "nbformat": 4,
 "nbformat_minor": 2
}
